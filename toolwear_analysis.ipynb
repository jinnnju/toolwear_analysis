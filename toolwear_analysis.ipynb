{
  "nbformat": 4,
  "nbformat_minor": 0,
  "metadata": {
    "colab": {
      "provenance": [],
      "authorship_tag": "ABX9TyPAjKSER7j+g1HJY2w1p4gA"
    },
    "kernelspec": {
      "name": "python3",
      "display_name": "Python 3"
    },
    "language_info": {
      "name": "python"
    }
  },
  "cells": [
    {
      "cell_type": "code",
      "execution_count": null,
      "metadata": {
        "colab": {
          "base_uri": "https://localhost:8080/"
        },
        "id": "bUeIBLA7fFgY",
        "outputId": "cc20511f-4757-42b3-f6c9-ffe917cace92"
      },
      "outputs": [
        {
          "output_type": "stream",
          "name": "stdout",
          "text": [
            "Mounted at /content/drive\n"
          ]
        }
      ],
      "source": [
        "from google.colab import drive\n",
        "drive.mount('/content/drive')"
      ]
    },
    {
      "cell_type": "code",
      "source": [
        "#T1~T8 까지\n",
        "import os\n",
        "import pandas as pd\n",
        "\n",
        "def load_experiment_data(directory_path):\n",
        "    # Define the names of the data folders and the label folder\n",
        "    data_folders = [\"Accelerometer_Data\", \"Force_Data\", \"Acoustic_Emission_Data\"]\n",
        "    label_folder = \"Tool_wear_values\"\n",
        "\n",
        "    # Initialize a dictionary to store dataframes for each experiment\n",
        "    experiment_data = {}\n",
        "\n",
        "    # Loop through each experiment number\n",
        "    for i in range(1, 13):\n",
        "        experiment_name = f\"Expt_{i}\"\n",
        "        experiment_data[experiment_name] = {}\n",
        "\n",
        "        # Loop through each data folder and load the corresponding CSV\n",
        "        for folder in data_folders:\n",
        "            csv_path = os.path.join(directory_path, folder, f\"{experiment_name}.csv\")\n",
        "            df = pd.read_csv(csv_path)\n",
        "            experiment_data[experiment_name][folder] = df\n",
        "\n",
        "    return experiment_data\n",
        "\n",
        "# Example usage:\n",
        "directory_path = '/content/drive/MyDrive/COOP/0814_은수님작업연장/Dataset/T1'  # Replace with the actual path to the T1 directory\n",
        "experiment_data = load_experiment_data(directory_path)\n",
        "\n",
        "\n"
      ],
      "metadata": {
        "id": "7z_hhUpFfXkZ"
      },
      "execution_count": null,
      "outputs": []
    },
    {
      "cell_type": "code",
      "source": [
        "import pandas as pd\n",
        "import numpy as np\n",
        "from scipy.stats import ttest_ind\n",
        "\n",
        "class FeatureExtractor:\n",
        "    def __init__(self, normal_ratio=0.5, abnormal_ratio=0.5):\n",
        "        assert normal_ratio + abnormal_ratio == 1, \"The sum of normal_ratio and abnormal_ratio must be 1.\"\n",
        "        self.normal_ratio = normal_ratio\n",
        "        self.abnormal_ratio = abnormal_ratio\n",
        "\n",
        "    def calculate_features(self, data):\n",
        "        Z1 = np.mean(np.abs(data))  # 평균값 (Mean Value)\n",
        "        Z2 = np.sqrt(np.mean(data ** 2))  # RMS\n",
        "        Z3 = np.std(data)  # 표준편차 (Standard Deviation)\n",
        "        Z4 = Z2 / Z1  # 형상 계수 (Shape Factor)\n",
        "        Z5 = np.mean(((np.abs(data - Z1)) / Z3) ** 3)  # 왜도 (Skewness)\n",
        "        Z6 = np.mean(((np.abs(data - Z1)) / Z3) ** 4)  # 첨도 (Kurtosis)\n",
        "        Z7 = np.max(np.abs(data))  # 최대값 (Peak Value)\n",
        "        Z8 = Z7 / Z2  # 첨도 계수 (Crest Factor)\n",
        "        Z9 = Z7 / Z1  # 충격 계수 (Impulse Factor)\n",
        "        Z10 = np.sum([(f ** 2) * p for f, p in enumerate(np.abs(np.fft.fft(data)) ** 2)])  # 평균 제곱 주파수 (MSF)\n",
        "        Z11 = np.mean(np.abs(np.fft.fft(data)) ** 2)  # 파워 스펙트럼의 평균 (MPS)\n",
        "        Z12 = np.sum([f * p for f, p in enumerate(np.abs(np.fft.fft(data)) ** 2)]) / np.sum(np.abs(np.fft.fft(data)) ** 2)  # 주파수 중심 (FC)\n",
        "        return [Z1, Z2, Z3, Z4, Z5, Z6, Z7, Z8, Z9, Z10, Z11, Z12]\n",
        "\n",
        "    def extract_features(self, expt_data):\n",
        "        normal_features = []\n",
        "        abnormal_features = []\n",
        "\n",
        "        for key, df in expt_data.items():  # 각 데이터프레임(Accelerometer, Force, Acoustic)을 순회\n",
        "            n_normal = int(len(df) * self.normal_ratio)\n",
        "            n_abnormal = len(df) - n_normal\n",
        "\n",
        "            normal_data = df.iloc[:n_normal]\n",
        "            abnormal_data = df.iloc[-n_abnormal:]\n",
        "\n",
        "            for col in df.columns:\n",
        "                normal_features.append(self.calculate_features(normal_data[col]))\n",
        "                abnormal_features.append(self.calculate_features(abnormal_data[col]))\n",
        "\n",
        "        normal_features = np.array(normal_features).flatten()\n",
        "        abnormal_features = np.array(abnormal_features).flatten()\n",
        "\n",
        "        return normal_features, abnormal_features\n",
        "\n",
        "    def t_test_features(self, normal_features, abnormal_features):\n",
        "        t_stat, p_value = ttest_ind(normal_features, abnormal_features, equal_var=False)\n",
        "        return {'t_stat': t_stat, 'p_value': p_value}\n",
        "\n",
        "    def process_experiment(self, experiment_data):\n",
        "        feature_results = {}\n",
        "        t_test_results = {}\n",
        "\n",
        "        for expt_name, expt_data in experiment_data.items():\n",
        "            normal_features, abnormal_features = self.extract_features(expt_data)\n",
        "            feature_results[expt_name] = {'normal': normal_features, 'abnormal': abnormal_features}\n",
        "            t_test_results[expt_name] = self.t_test_features(normal_features, abnormal_features)\n",
        "\n",
        "        return feature_results, t_test_results\n",
        "\n",
        "\n"
      ],
      "metadata": {
        "colab": {
          "base_uri": "https://localhost:8080/"
        },
        "id": "LK6iEfgbBsll",
        "outputId": "fd8b1911-fa6c-4bbd-b2a9-36f624bd187e"
      },
      "execution_count": null,
      "outputs": [
        {
          "output_type": "stream",
          "name": "stdout",
          "text": [
            "{'t_stat': -0.09519914339258417, 'p_value': 0.9242716070627832}\n"
          ]
        }
      ]
    },
    {
      "cell_type": "code",
      "source": [
        "# 사용 예시:\n",
        "# experiment_data는 이미 experiment_data[\"Expt_1\"] 형태로 준비되어 있다고 가정합니다.\n",
        "extractor = FeatureExtractor(normal_ratio=0.5, abnormal_ratio=0.5)\n",
        "\n",
        "# Expt_1에 대해 특징을 추출하고 t-검정을 수행\n",
        "feature_results, t_test_results = extractor.process_experiment({\"Expt_1\": experiment_data[\"Expt_1\"]})\n",
        "\n",
        "# t-검정 결과 출력\n",
        "print(t_test_results[\"Expt_1\"])\n"
      ],
      "metadata": {
        "id": "T3S95i6G_0Ry"
      },
      "execution_count": null,
      "outputs": []
    },
    {
      "cell_type": "code",
      "source": [
        "# experiment_data는 이미 experiment_data[\"Expt_1\"] 형태로 준비되어 있다고 가정합니다.\n",
        "extractor = FeatureExtractor(normal_ratio=0.7, abnormal_ratio=0.3)\n",
        "\n",
        "# Expt_1에 대해 특징을 추출하고 t-검정을 수행\n",
        "feature_results, t_test_results = extractor.process_experiment({\"Expt_1\": experiment_data[\"Expt_1\"]})\n",
        "\n",
        "# t-검정 결과 출력\n",
        "print(t_test_results[\"Expt_1\"])\n"
      ],
      "metadata": {
        "colab": {
          "base_uri": "https://localhost:8080/"
        },
        "id": "J2ndkie-B9S7",
        "outputId": "a949fccb-7ba4-47d4-fc11-681ea8f95b82"
      },
      "execution_count": null,
      "outputs": [
        {
          "output_type": "stream",
          "name": "stdout",
          "text": [
            "{'t_stat': 1.4494213022979752, 'p_value': 0.15098356628041573}\n"
          ]
        }
      ]
    },
    {
      "cell_type": "code",
      "source": [
        "# experiment_data는 이미 experiment_data[\"Expt_1\"] 형태로 준비되어 있다고 가정합니다.\n",
        "extractor = FeatureExtractor(normal_ratio=0.8, abnormal_ratio=0.2)\n",
        "\n",
        "# Expt_1에 대해 특징을 추출하고 t-검정을 수행\n",
        "feature_results, t_test_results = extractor.process_experiment({\"Expt_1\": experiment_data[\"Expt_1\"]})\n",
        "\n",
        "# t-검정 결과 출력\n",
        "print(t_test_results[\"Expt_1\"])\n"
      ],
      "metadata": {
        "colab": {
          "base_uri": "https://localhost:8080/"
        },
        "id": "mMegNjUGCB_6",
        "outputId": "dd8b3066-ade6-4c6a-86f7-26f8bb9616be"
      },
      "execution_count": null,
      "outputs": [
        {
          "output_type": "stream",
          "name": "stdout",
          "text": [
            "{'t_stat': 1.4770098575831436, 'p_value': 0.14345732131070804}\n"
          ]
        }
      ]
    },
    {
      "cell_type": "code",
      "source": [
        "# FeatureExtractor 클래스를 정의한 후 아래 코드를 실행합니다.\n",
        "\n",
        "# FeatureExtractor 클래스를 초기화할 때 normal_ratio와 abnormal_ratio를 설정합니다.\n",
        "extractor = FeatureExtractor(normal_ratio=0.8, abnormal_ratio=0.2)\n",
        "\n",
        "# Expt_1부터 Expt_12까지의 데이터에 대해 특징을 추출하고 t-검정을 수행합니다.\n",
        "all_experiments = {f\"Expt_{i}\": experiment_data[f\"Expt_{i}\"] for i in range(1, 13)}\n",
        "\n",
        "# 모든 실험에 대해 처리\n",
        "feature_results, t_test_results = extractor.process_experiment(all_experiments)\n",
        "\n",
        "# 각 실험의 t-검정 결과 출력\n",
        "for expt_name, results in t_test_results.items():\n",
        "    print(f\"{expt_name}: t_stat = {results['t_stat']}, p_value = {results['p_value']}\")\n"
      ],
      "metadata": {
        "colab": {
          "base_uri": "https://localhost:8080/"
        },
        "id": "MhwErkNmCVoh",
        "outputId": "706816d3-7be1-42b4-9f5f-eadf0a3d18d8"
      },
      "execution_count": null,
      "outputs": [
        {
          "output_type": "stream",
          "name": "stdout",
          "text": [
            "Expt_1: t_stat = 1.4770098575831436, p_value = 0.14345732131070804\n",
            "Expt_2: t_stat = 1.6371109742765106, p_value = 0.10539333331958933\n",
            "Expt_3: t_stat = 1.5480029564586022, p_value = 0.12542622274893248\n",
            "Expt_4: t_stat = 1.81487997843523, p_value = 0.07315462315544669\n",
            "Expt_5: t_stat = 1.7874344234270378, p_value = 0.07751733185487344\n",
            "Expt_6: t_stat = 1.7788181860450059, p_value = 0.0789307439599061\n",
            "Expt_7: t_stat = 1.7285732091319614, p_value = 0.0876037448940448\n",
            "Expt_8: t_stat = 1.7081089006626833, p_value = 0.09135378815592006\n",
            "Expt_9: t_stat = 1.5868951449351523, p_value = 0.11633898333724557\n",
            "Expt_10: t_stat = 1.7818126972400694, p_value = 0.07843730954665154\n",
            "Expt_11: t_stat = 1.7439608489321814, p_value = 0.08486817051242108\n",
            "Expt_12: t_stat = 1.7639503248824044, p_value = 0.08141984802449657\n"
          ]
        }
      ]
    },
    {
      "cell_type": "code",
      "source": [
        "import numpy as np\n",
        "\n",
        "# 최적의 normal_ratio와 abnormal_ratio를 찾기 위한 함수\n",
        "def find_optimal_ratio(experiment_data, ratios):\n",
        "    optimal_ratio = None\n",
        "    min_avg_p_value = float('inf')\n",
        "    p_values_dict = {}\n",
        "\n",
        "    for normal_ratio in ratios:\n",
        "        abnormal_ratio = 1 - normal_ratio\n",
        "        extractor = FeatureExtractor(normal_ratio=normal_ratio, abnormal_ratio=abnormal_ratio)\n",
        "        feature_results, t_test_results = extractor.process_experiment(experiment_data)\n",
        "\n",
        "        # 모든 실험에 대해 평균 p-값 계산\n",
        "        avg_p_value = np.mean([result['p_value'] for result in t_test_results.values()])\n",
        "        p_values_dict[normal_ratio] = avg_p_value\n",
        "\n",
        "        # 최소 평균 p-값과 해당 비율을 저장\n",
        "        if avg_p_value < min_avg_p_value:\n",
        "            min_avg_p_value = avg_p_value\n",
        "            optimal_ratio = normal_ratio\n",
        "\n",
        "    return optimal_ratio, min_avg_p_value, p_values_dict\n",
        "\n",
        "# 사용 예시:\n",
        "ratios = np.arange(0.5, 1.0, 0.1)  # 0.5부터 0.9까지의 비율\n",
        "all_experiments = {f\"Expt_{i}\": experiment_data[f\"Expt_{i}\"] for i in range(1, 13)}\n",
        "\n",
        "optimal_ratio, min_avg_p_value, p_values_dict = find_optimal_ratio(all_experiments, ratios)\n",
        "\n",
        "print(f\"Optimal Normal Ratio: {optimal_ratio}\")\n",
        "print(f\"Minimum Average p-value: {min_avg_p_value}\")\n",
        "\n",
        "# 각 비율에 대한 평균 p-value 출력\n",
        "for ratio, avg_p_value in p_values_dict.items():\n",
        "    print(f\"Normal Ratio: {ratio}, Average p-value: {avg_p_value}\")\n"
      ],
      "metadata": {
        "colab": {
          "base_uri": "https://localhost:8080/"
        },
        "id": "j7bQEfyTDAAd",
        "outputId": "0299e810-87d7-48d0-fc79-3dd0ca3408ad"
      },
      "execution_count": null,
      "outputs": [
        {
          "output_type": "stream",
          "name": "stdout",
          "text": [
            "Optimal Normal Ratio: 0.7999999999999999\n",
            "Minimum Average p-value: 0.09532511840231866\n",
            "Normal Ratio: 0.5, Average p-value: 0.7263697599157614\n",
            "Normal Ratio: 0.6, Average p-value: 0.18721337383959302\n",
            "Normal Ratio: 0.7, Average p-value: 0.10371643874201346\n",
            "Normal Ratio: 0.7999999999999999, Average p-value: 0.09532511840231866\n",
            "Normal Ratio: 0.8999999999999999, Average p-value: 0.09593891946678691\n"
          ]
        }
      ]
    },
    {
      "cell_type": "code",
      "source": [
        "directory_path2 = '/content/drive/MyDrive/COOP/0814_은수님작업연장/Dataset/T2'  # Replace with the actual path to the T1 directory\n",
        "experiment_data2 = load_experiment_data(directory_path2)"
      ],
      "metadata": {
        "id": "AWbV2OBJERTq"
      },
      "execution_count": null,
      "outputs": []
    },
    {
      "cell_type": "code",
      "source": [
        "# 디렉토리 경로 설정\n",
        "directories = [f'/content/drive/MyDrive/COOP/0814_은수님작업연장/Dataset/T{i}' for i in range(1, 9)]\n",
        "\n",
        "# 각 디렉토리에 대해 데이터 로드 및 최적 비율 찾기\n",
        "for i, directory_path in enumerate(directories, 1):\n",
        "    print(f\"Processing T{i}...\")\n",
        "    experiment_data = load_experiment_data(directory_path)\n",
        "\n",
        "    # 비율 범위 설정\n",
        "    ratios = np.arange(0.5, 1.0, 0.1)  # 0.5부터 0.9까지의 비율\n",
        "\n",
        "    # 모든 실험 데이터셋에 대해 최적의 비율 찾기\n",
        "    all_experiments = {f\"Expt_{j}\": experiment_data[f\"Expt_{j}\"] for j in range(1, 13)}\n",
        "    optimal_ratio, min_avg_p_value, p_values_dict = find_optimal_ratio(all_experiments, ratios)\n",
        "\n",
        "    # 결과 출력\n",
        "    print(f\"T{i} Optimal Normal Ratio: {optimal_ratio}\")\n",
        "    print(f\"T{i} Minimum Average p-value: {min_avg_p_value}\")\n",
        "    print(f\"T{i} Average p-values per ratio:\")\n",
        "\n",
        "    for ratio, avg_p_value in p_values_dict.items():\n",
        "        print(f\"Normal Ratio: {ratio}, Average p-value: {avg_p_value}\")\n",
        "\n",
        "    print(\"\\n\" + \"=\"*50 + \"\\n\")  # 각 T의 결과를 구분하기 위해 줄 추가\n"
      ],
      "metadata": {
        "colab": {
          "base_uri": "https://localhost:8080/"
        },
        "id": "AvVBBnBYEW-m",
        "outputId": "6abdb31c-4543-4a5d-d40f-c6b8edf4fba4"
      },
      "execution_count": null,
      "outputs": [
        {
          "output_type": "stream",
          "name": "stdout",
          "text": [
            "Processing T1...\n",
            "T1 Optimal Normal Ratio: 0.7999999999999999\n",
            "T1 Minimum Average p-value: 0.09532511840231866\n",
            "T1 Average p-values per ratio:\n",
            "Normal Ratio: 0.5, Average p-value: 0.7263697599157614\n",
            "Normal Ratio: 0.6, Average p-value: 0.18721337383959302\n",
            "Normal Ratio: 0.7, Average p-value: 0.10371643874201346\n",
            "Normal Ratio: 0.7999999999999999, Average p-value: 0.09532511840231866\n",
            "Normal Ratio: 0.8999999999999999, Average p-value: 0.09593891946678691\n",
            "\n",
            "==================================================\n",
            "\n",
            "Processing T2...\n",
            "T2 Optimal Normal Ratio: 0.8999999999999999\n",
            "T2 Minimum Average p-value: 0.07267334580165906\n",
            "T2 Average p-values per ratio:\n",
            "Normal Ratio: 0.5, Average p-value: 0.5669823321157501\n",
            "Normal Ratio: 0.6, Average p-value: 0.13747701637074702\n",
            "Normal Ratio: 0.7, Average p-value: 0.08123321395205196\n",
            "Normal Ratio: 0.7999999999999999, Average p-value: 0.0743772649415158\n",
            "Normal Ratio: 0.8999999999999999, Average p-value: 0.07267334580165906\n",
            "\n",
            "==================================================\n",
            "\n",
            "Processing T3...\n",
            "T3 Optimal Normal Ratio: 0.7999999999999999\n",
            "T3 Minimum Average p-value: 0.10299846723636776\n",
            "T3 Average p-values per ratio:\n",
            "Normal Ratio: 0.5, Average p-value: 0.7346663895916546\n",
            "Normal Ratio: 0.6, Average p-value: 0.22338665457845128\n",
            "Normal Ratio: 0.7, Average p-value: 0.11144528657568742\n",
            "Normal Ratio: 0.7999999999999999, Average p-value: 0.10299846723636776\n",
            "Normal Ratio: 0.8999999999999999, Average p-value: 0.1044961976448518\n",
            "\n",
            "==================================================\n",
            "\n",
            "Processing T4...\n",
            "T4 Optimal Normal Ratio: 0.7999999999999999\n",
            "T4 Minimum Average p-value: 0.10149848022134263\n",
            "T4 Average p-values per ratio:\n",
            "Normal Ratio: 0.5, Average p-value: 0.6725104564601413\n",
            "Normal Ratio: 0.6, Average p-value: 0.22300368429408035\n",
            "Normal Ratio: 0.7, Average p-value: 0.11137370908087842\n",
            "Normal Ratio: 0.7999999999999999, Average p-value: 0.10149848022134263\n",
            "Normal Ratio: 0.8999999999999999, Average p-value: 0.10301008107510741\n",
            "\n",
            "==================================================\n",
            "\n",
            "Processing T5...\n",
            "T5 Optimal Normal Ratio: 0.7999999999999999\n",
            "T5 Minimum Average p-value: 0.09411639197653898\n",
            "T5 Average p-values per ratio:\n",
            "Normal Ratio: 0.5, Average p-value: 0.7058139314999168\n",
            "Normal Ratio: 0.6, Average p-value: 0.18485463814768613\n",
            "Normal Ratio: 0.7, Average p-value: 0.1022772927610273\n",
            "Normal Ratio: 0.7999999999999999, Average p-value: 0.09411639197653898\n",
            "Normal Ratio: 0.8999999999999999, Average p-value: 0.09466999328016677\n",
            "\n",
            "==================================================\n",
            "\n",
            "Processing T6...\n",
            "T6 Optimal Normal Ratio: 0.8999999999999999\n",
            "T6 Minimum Average p-value: 0.06430781210746023\n",
            "T6 Average p-values per ratio:\n",
            "Normal Ratio: 0.5, Average p-value: 0.589115673662693\n",
            "Normal Ratio: 0.6, Average p-value: 0.13095526655784864\n",
            "Normal Ratio: 0.7, Average p-value: 0.07145636289885336\n",
            "Normal Ratio: 0.7999999999999999, Average p-value: 0.06578809675651492\n",
            "Normal Ratio: 0.8999999999999999, Average p-value: 0.06430781210746023\n",
            "\n",
            "==================================================\n",
            "\n",
            "Processing T7...\n",
            "T7 Optimal Normal Ratio: 0.7999999999999999\n",
            "T7 Minimum Average p-value: 0.09204179107252704\n",
            "T7 Average p-values per ratio:\n",
            "Normal Ratio: 0.5, Average p-value: 0.6680117294208404\n",
            "Normal Ratio: 0.6, Average p-value: 0.20843891849010573\n",
            "Normal Ratio: 0.7, Average p-value: 0.10200620371637183\n",
            "Normal Ratio: 0.7999999999999999, Average p-value: 0.09204179107252704\n",
            "Normal Ratio: 0.8999999999999999, Average p-value: 0.0930915777090792\n",
            "\n",
            "==================================================\n",
            "\n",
            "Processing T8...\n",
            "T8 Optimal Normal Ratio: 0.7999999999999999\n",
            "T8 Minimum Average p-value: 0.10174556194576397\n",
            "T8 Average p-values per ratio:\n",
            "Normal Ratio: 0.5, Average p-value: 0.6729389509205065\n",
            "Normal Ratio: 0.6, Average p-value: 0.22331784683709943\n",
            "Normal Ratio: 0.7, Average p-value: 0.1116300699605252\n",
            "Normal Ratio: 0.7999999999999999, Average p-value: 0.10174556194576397\n",
            "Normal Ratio: 0.8999999999999999, Average p-value: 0.10326125786222722\n",
            "\n",
            "==================================================\n",
            "\n"
          ]
        }
      ]
    },
    {
      "cell_type": "markdown",
      "source": [
        "T1"
      ],
      "metadata": {
        "id": "7bZB4hjUgpWF"
      }
    },
    {
      "cell_type": "markdown",
      "source": [],
      "metadata": {
        "id": "o7RrKfxzgsoV"
      }
    },
    {
      "cell_type": "code",
      "source": [
        "import pandas as pd\n",
        "\n",
        "# CSV 파일 경로\n",
        "csv_file_path = \"/content/drive/MyDrive/COOP/0814_은수님작업연장/Dataset/T1/Tool_Wear_Values/T1_Tool_wear_values_for_all_Experiments.csv\"\n",
        "\n",
        "# 다른 인코딩으로 CSV 파일을 읽어오기\n",
        "try:\n",
        "    df = pd.read_csv(csv_file_path, encoding='ISO-8859-1')\n",
        "except UnicodeDecodeError:\n",
        "    df = pd.read_csv(csv_file_path, encoding='latin1')\n",
        "\n",
        "# 데이터프레임 출력 (필요한 경우)\n",
        "print(df)\n"
      ],
      "metadata": {
        "colab": {
          "base_uri": "https://localhost:8080/"
        },
        "id": "Fi9oLrwafnjx",
        "outputId": "0b7e4048-93af-4578-c835-68cc7dc16149"
      },
      "execution_count": null,
      "outputs": [
        {
          "output_type": "stream",
          "name": "stdout",
          "text": [
            "          #  Tool Wear in (µm)\n",
            "0    Expt_1            123.349\n",
            "1    Expt_2            144.226\n",
            "2    Expt_3            205.581\n",
            "3    Expt_4            219.458\n",
            "4    Expt_5            228.812\n",
            "5    Expt_6            239.913\n",
            "6    Expt_7            241.843\n",
            "7    Expt_8            259.033\n",
            "8    Expt_9            268.299\n",
            "9   Expt_10            280.364\n",
            "10  Expt_11            291.479\n",
            "11  Expt_12            306.450\n"
          ]
        }
      ]
    },
    {
      "cell_type": "markdown",
      "source": [
        "T5"
      ],
      "metadata": {
        "id": "uslPkdEjgtlF"
      }
    },
    {
      "cell_type": "code",
      "source": [
        "# Example usage:\n",
        "directory_path2 = '/content/drive/MyDrive/COOP/0814_은수님작업연장/Dataset/T5'  # Replace with the actual path to the T1 directory\n",
        "experiment_data2 = load_experiment_data(directory_path2)\n",
        "\n"
      ],
      "metadata": {
        "id": "Z4JOomC4guvT"
      },
      "execution_count": null,
      "outputs": []
    },
    {
      "cell_type": "code",
      "source": [
        "experiment_data2[\"Expt_8\"]"
      ],
      "metadata": {
        "colab": {
          "base_uri": "https://localhost:8080/"
        },
        "id": "RQYEaAq3mXKc",
        "outputId": "8242b1c1-64d0-48a6-d5db-2c91b6415aa9"
      },
      "execution_count": null,
      "outputs": [
        {
          "output_type": "execute_result",
          "data": {
            "text/plain": [
              "{'Accelerometer_Data':         Vibration in  X (g)  Vibration in Y (g)  Vibration in Z (g)\n",
              " 0                 -0.001761           -0.009247           -0.003963\n",
              " 1                 -0.003083           -0.009026           -0.003963\n",
              " 2                 -0.002862           -0.009907           -0.005284\n",
              " 3                 -0.001761           -0.010788           -0.007265\n",
              " 4                 -0.002642           -0.011669           -0.007485\n",
              " ...                     ...                 ...                 ...\n",
              " 337496            -0.168520           -0.116716            0.751681\n",
              " 337497            -0.131729           -0.313570            1.461918\n",
              " 337498            -0.130037           -0.141244           -0.212289\n",
              " 337499             0.088806            0.146742           -1.173510\n",
              " 337500             0.363682            0.129191           -0.323720\n",
              " \n",
              " [337501 rows x 3 columns],\n",
              " 'Force_Data':        Force in X axis (N)  Force in Y axis (N)  Force in Z axis (N)\n",
              " 0                -3.323361            -8.157353            50.756805\n",
              " 1                -5.740357            -5.740357            47.131326\n",
              " 2                -5.740357            -5.740357            45.922833\n",
              " 3                -5.438228            -5.136110            41.088861\n",
              " 4                -7.553096            -5.136110            49.548312\n",
              " ...                    ...                  ...                  ...\n",
              " 59996             0.289917            -1.739497            45.227030\n",
              " 59997            -0.869751            -2.319339            39.428705\n",
              " 59998            -0.289917            -2.029418            38.269040\n",
              " 59999             0.289917            -2.319339            38.269040\n",
              " 60000             0.289917            -2.609251            37.109375\n",
              " \n",
              " [60001 rows x 3 columns],\n",
              " 'Acoustic_Emission_Data':       Acoustic Emission in dB\n",
              " 0                    0.170027\n",
              " 1                    0.078358\n",
              " 2                    0.133359\n",
              " 3                   -0.013311\n",
              " 4                    0.041690\n",
              " ...                       ...\n",
              " 6895                -0.031645\n",
              " 6896                -0.031645\n",
              " 6897                 0.060024\n",
              " 6898                 0.005023\n",
              " 6899                -0.031645\n",
              " \n",
              " [6900 rows x 1 columns]}"
            ]
          },
          "metadata": {},
          "execution_count": 16
        }
      ]
    },
    {
      "cell_type": "code",
      "source": [
        "experiment_data2[\"Expt_1\"]"
      ],
      "metadata": {
        "colab": {
          "base_uri": "https://localhost:8080/"
        },
        "id": "TFOTPHyYmd_o",
        "outputId": "a058d989-621c-4868-9c3c-1127f6d48181"
      },
      "execution_count": null,
      "outputs": [
        {
          "output_type": "execute_result",
          "data": {
            "text/plain": [
              "{'Accelerometer_Data':         Vibration in  X (g)  Vibration in Y (g)  Vibration in Z (g)\n",
              " 0                 -0.001321            0.000661           -0.003083\n",
              " 1                 -0.003743            0.000000           -0.002862\n",
              " 2                 -0.003743            0.000000           -0.002642\n",
              " 3                 -0.001541            0.000000           -0.002202\n",
              " 4                  0.000881           -0.000661           -0.002202\n",
              " ...                     ...                 ...                 ...\n",
              " 337496             0.007904            0.001282            0.007263\n",
              " 337497             0.008117           -0.002136            0.005341\n",
              " 337498             0.004914           -0.005127            0.006195\n",
              " 337499             0.001495           -0.002991            0.007690\n",
              " 337500             0.000214           -0.001282            0.006408\n",
              " \n",
              " [337501 rows x 3 columns],\n",
              " 'Force_Data':        Force in X axis (N)  Force in Y axis (N)  Force in Z axis (N)\n",
              " 0                14.785800            10.726925            28.991720\n",
              " 1                15.365585            12.176530            32.470715\n",
              " 2                15.365585            11.306805            28.991720\n",
              " 3                14.205920            11.306805            30.151385\n",
              " 4                14.785800            11.306805            31.311050\n",
              " ...                    ...                  ...                  ...\n",
              " 53996           256.005400           208.153960           -58.618210\n",
              " 53997           257.201980           207.257260           -62.207068\n",
              " 53998           257.500880           209.948340           -55.029254\n",
              " 53999           255.108700           209.350540           -52.636682\n",
              " 54000           258.398560           208.752740           -57.421924\n",
              " \n",
              " [54001 rows x 3 columns],\n",
              " 'Acoustic_Emission_Data':       Acoustic Emission in dB\n",
              " 0                   -0.127089\n",
              " 1                   -0.164879\n",
              " 2                   -0.051509\n",
              " 3                   -0.070404\n",
              " 4                   -0.032614\n",
              " ...                       ...\n",
              " 3795                 0.042967\n",
              " 3796                 0.061862\n",
              " 3797                 0.042967\n",
              " 3798                -0.013719\n",
              " 3799                -0.089299\n",
              " \n",
              " [3800 rows x 1 columns]}"
            ]
          },
          "metadata": {},
          "execution_count": 18
        }
      ]
    },
    {
      "cell_type": "code",
      "source": [
        "experiment_data[\"Expt_1\"]"
      ],
      "metadata": {
        "colab": {
          "base_uri": "https://localhost:8080/"
        },
        "id": "FpUM3RAdMmjC",
        "outputId": "751807ed-babc-423a-ae08-bcba8b18841e"
      },
      "execution_count": null,
      "outputs": [
        {
          "output_type": "execute_result",
          "data": {
            "text/plain": [
              "{'Accelerometer_Data':         Vibration in  X (g)  Vibration in Y (g)  Vibration in Z (g)\n",
              " 0                 -0.001308            0.000654           -0.003052\n",
              " 1                 -0.003706            0.000000           -0.002834\n",
              " 2                 -0.003706            0.000000           -0.002616\n",
              " 3                 -0.001526            0.000000           -0.002180\n",
              " 4                  0.000872           -0.000654           -0.002180\n",
              " ...                     ...                 ...                 ...\n",
              " 337496             0.008065            0.001308            0.007411\n",
              " 337497             0.008283           -0.002180            0.005450\n",
              " 337498             0.005014           -0.005232            0.006321\n",
              " 337499             0.001526           -0.003052            0.007847\n",
              " 337500             0.000218           -0.001308            0.006539\n",
              " \n",
              " [337501 rows x 3 columns],\n",
              " 'Force_Data':        Force in X axis (N)  Force in Y axis (N)  Force in Z axis (N)\n",
              " 0                  15.5640              11.2915              30.5176\n",
              " 1                  16.1743              12.8174              34.1797\n",
              " 2                  16.1743              11.9019              30.5176\n",
              " 3                  14.9536              11.9019              31.7383\n",
              " 4                  15.5640              11.9019              32.9590\n",
              " ...                    ...                  ...                  ...\n",
              " 53996             261.2300             212.4020             -59.8145\n",
              " 53997             262.4510             211.4870             -63.4766\n",
              " 53998             262.7560             214.2330             -56.1523\n",
              " 53999             260.3150             213.6230             -53.7109\n",
              " 54000             263.6720             213.0130             -58.5938\n",
              " \n",
              " [54001 rows x 3 columns],\n",
              " 'Acoustic_Emission_Data':       Acoustic Emission in dB\n",
              " 0                    -0.12583\n",
              " 1                    -0.16325\n",
              " 2                    -0.05100\n",
              " 3                    -0.06971\n",
              " 4                    -0.03229\n",
              " ...                       ...\n",
              " 3795                  0.04254\n",
              " 3796                  0.06125\n",
              " 3797                  0.04254\n",
              " 3798                 -0.01358\n",
              " 3799                 -0.08841\n",
              " \n",
              " [3800 rows x 1 columns]}"
            ]
          },
          "metadata": {},
          "execution_count": 21
        }
      ]
    }
  ]
}